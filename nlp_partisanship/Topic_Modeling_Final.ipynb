{
 "cells": [
  {
   "cell_type": "code",
   "execution_count": 1,
   "metadata": {},
   "outputs": [
    {
     "name": "stdout",
     "output_type": "stream",
     "text": [
      "Populating the interactive namespace from numpy and matplotlib\n"
     ]
    },
    {
     "name": "stderr",
     "output_type": "stream",
     "text": [
      "/Library/Frameworks/Python.framework/Versions/3.6/lib/python3.6/site-packages/IPython/core/magics/pylab.py:160: UserWarning: pylab import has clobbered these variables: ['random']\n",
      "`%matplotlib` prevents importing * from pylab and numpy\n",
      "  \"\\n`%matplotlib` prevents importing * from pylab and numpy\"\n"
     ]
    }
   ],
   "source": [
    "import pandas as pd\n",
    "import numpy as np\n",
    "import nltk\n",
    "import matplotlib.pyplot as plt\n",
    "import random\n",
    "import seaborn as sns\n",
    "import pickle\n",
    "%pylab inline\n",
    "\n",
    "from sklearn.feature_extraction.text import CountVectorizer, TfidfVectorizer\n",
    "from sklearn.decomposition import NMF\n",
    "from sklearn.metrics import pairwise_distances\n",
    "from sklearn.manifold import TSNE\n",
    "from sklearn.externals import joblib\n",
    "from sklearn.cluster import KMeans, DBSCAN, AffinityPropagation\n",
    "from nltk.corpus import stopwords\n",
    "from collections import defaultdict, Counter"
   ]
  },
  {
   "cell_type": "code",
   "execution_count": 8,
   "metadata": {},
   "outputs": [],
   "source": [
    "def build_nmf_model(df):\n",
    "\n",
    "    my_stops = stopwords.words()\n",
    "    leg_df = pd.read_csv(\"data/legislators-current.csv\")\n",
    "    last_names = [name.lower() for name in list(leg_df.last_name)]\n",
    "    my_stops += last_names\n",
    "    excess_words = [\"statement\", \"congress\", \"senator\", \"senate\", \"congressman\", \"committee\", \"whether\", \"role\",\"since\",\n",
    "                   \"united\", \"states\", \"well\", \"much\", \"department\", \"congress\", \"like\", \"senators\", \"two\", \"three\",\n",
    "                   \"mr\", \"ms\", \"chairman\", \"ranking\", \"member\", \"republicans\", \"democrats\", \"republican\", \"democratic\",\n",
    "                   \"democrat\", \"put\", \"going\", \"said\", \"needs\" ,\"see\", \"get\", \"back\", \"going\", \"way\", \"last\", \"could\"]\n",
    "    my_stops += excess_words\n",
    "    all_releases = list(df[\"Release\"])\n",
    "    corpus = list()\n",
    "    lengths = defaultdict(int)\n",
    "    for index, release in enumerate(all_releases):\n",
    "        sents = nltk.sent_tokenize(release)\n",
    "        lengths[index] = len(sents)\n",
    "        corpus += sents\n",
    "\n",
    "    tfidf = TfidfVectorizer(max_df=0.95, min_df=0.01, stop_words=my_stops,\n",
    "                            token_pattern=\"\\\\b[a-z][a-z]+\\\\b\", ngram_range=(1, 2))\n",
    "\n",
    "    rel_tf = tfidf.fit_transform(corpus)\n",
    "    \n",
    "    nmf = NMF(n_components=100, init=\"random\", random_state=42)\n",
    "\n",
    "    rel_nmf = nmf.fit_transform(rel_tf)\n",
    "\n",
    "    return rel_nmf"
   ]
  },
  {
   "cell_type": "code",
   "execution_count": 5,
   "metadata": {
    "collapsed": true
   },
   "outputs": [
    {
     "name": "stderr",
     "output_type": "stream",
     "text": [
      "/Library/Frameworks/Python.framework/Versions/3.6/lib/python3.6/site-packages/ipykernel_launcher.py:4: SettingWithCopyWarning: \n",
      "A value is trying to be set on a copy of a slice from a DataFrame.\n",
      "Try using .loc[row_indexer,col_indexer] = value instead\n",
      "\n",
      "See the caveats in the documentation: http://pandas.pydata.org/pandas-docs/stable/indexing.html#indexing-view-versus-copy\n",
      "  after removing the cwd from sys.path.\n"
     ]
    }
   ],
   "source": [
    "all_df = pd.read_pickle(\"/Users/danielgilberg/data_science/metis/nlp_partisanship/data/all_committees.pkl\")\n",
    "all_df\n",
    "recent_df = all_df[all_df.Year > 2011]\n",
    "recent_df[\"Release\"] = recent_df.apply(lambda row: row[\"Release\"].strip(), axis=1)\n",
    "recent_df = recent_df[recent_df.Release != '']"
   ]
  },
  {
   "cell_type": "code",
   "execution_count": null,
   "metadata": {},
   "outputs": [],
   "source": []
  }
 ],
 "metadata": {
  "kernelspec": {
   "display_name": "Python 3",
   "language": "python",
   "name": "python3"
  },
  "language_info": {
   "codemirror_mode": {
    "name": "ipython",
    "version": 3
   },
   "file_extension": ".py",
   "mimetype": "text/x-python",
   "name": "python",
   "nbconvert_exporter": "python",
   "pygments_lexer": "ipython3",
   "version": "3.6.2"
  }
 },
 "nbformat": 4,
 "nbformat_minor": 2
}
